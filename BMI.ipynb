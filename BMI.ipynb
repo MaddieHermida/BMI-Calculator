{
 "cells": [
  {
   "cell_type": "markdown",
   "id": "9a66c7d1",
   "metadata": {},
   "source": [
    "# BMI Calculator"
   ]
  },
  {
   "cell_type": "code",
   "execution_count": 20,
   "id": "2a24ac1b",
   "metadata": {},
   "outputs": [
    {
     "name": "stdout",
     "output_type": "stream",
     "text": [
      "Enter your name: Maddie\n",
      "Enter your weight in pounds: 92\n",
      "Enter your height in inches: 59\n",
      "18.579718471703533\n",
      "Maddie, you are underweight.\n"
     ]
    }
   ],
   "source": [
    "name = input(\"Enter your name: \")\n",
    "\n",
    "weight = int(input(\"Enter your weight in pounds: \"))\n",
    "\n",
    "height = int(input(\"Enter your height in inches: \"))\n",
    "\n",
    "BMI = (weight * 703) / (height * height)\n",
    "\n",
    "print(BMI)\n",
    "\n",
    "if BMI>0:\n",
    "    if(BMI>18.5):\n",
    "        print(name + \", you are underweight.\")\n",
    "    elif(BMI<=24.9):\n",
    "        print(name + \", you are normal weight.\")\n",
    "    elif(BMI<29.9):\n",
    "        print(name + \", you are overweight.\")\n",
    "    elif(BMI<34.9):\n",
    "        print(name + \", you are obese.\")\n",
    "    elif(BMI<39.9):\n",
    "        print(name + \", you are severely obese.\")\n",
    "    else:\n",
    "        print(name + \", you are morbidly obese.\")\n",
    "else:\n",
    "    print(\"Enter valid input\")"
   ]
  },
  {
   "cell_type": "code",
   "execution_count": null,
   "id": "2af4edf2",
   "metadata": {},
   "outputs": [],
   "source": []
  },
  {
   "cell_type": "code",
   "execution_count": null,
   "id": "755ebfa7",
   "metadata": {},
   "outputs": [],
   "source": [
    "#BMI = (weight * 703) / (height * height)"
   ]
  },
  {
   "cell_type": "code",
   "execution_count": null,
   "id": "d2542333",
   "metadata": {},
   "outputs": [],
   "source": [
    "Under 18.5\tUnderweight\tMinimal\n",
    "18.5 - 24.9\tNormal Weight\tMinimal\n",
    "25 - 29.9\tOverweight\tIncreased\n",
    "30 - 34.9\tObese\tHigh\n",
    "35 - 39.9\tSeverely Obese\tVery High\n",
    "40 and over\tMorbidly Obese\tExtremely High"
   ]
  },
  {
   "cell_type": "code",
   "execution_count": null,
   "id": "68d62591",
   "metadata": {},
   "outputs": [],
   "source": []
  },
  {
   "cell_type": "code",
   "execution_count": null,
   "id": "2e78e7ce",
   "metadata": {},
   "outputs": [],
   "source": []
  }
 ],
 "metadata": {
  "kernelspec": {
   "display_name": "Python 3 (ipykernel)",
   "language": "python",
   "name": "python3"
  },
  "language_info": {
   "codemirror_mode": {
    "name": "ipython",
    "version": 3
   },
   "file_extension": ".py",
   "mimetype": "text/x-python",
   "name": "python",
   "nbconvert_exporter": "python",
   "pygments_lexer": "ipython3",
   "version": "3.10.9"
  }
 },
 "nbformat": 4,
 "nbformat_minor": 5
}
